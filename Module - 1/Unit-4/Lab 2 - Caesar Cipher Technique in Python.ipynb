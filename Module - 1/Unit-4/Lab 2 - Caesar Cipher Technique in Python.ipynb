{
 "cells": [
  {
   "cell_type": "markdown",
   "id": "6a1afd6b",
   "metadata": {},
   "source": [
    "# EDUNET FOUNDATION-Class Exercise Notebook"
   ]
  },
  {
   "attachments": {},
   "cell_type": "markdown",
   "id": "a51d3226",
   "metadata": {},
   "source": [
    "## LAB 2 - Caesar Cipher Technique in Python"
   ]
  },
  {
   "cell_type": "markdown",
   "id": "24da298e",
   "metadata": {},
   "source": [
    "#### Create a function named encrypt"
   ]
  },
  {
   "cell_type": "code",
   "execution_count": 1,
   "id": "36d1edef",
   "metadata": {},
   "outputs": [],
   "source": [
    "def encrypt(text,s):\n",
    "    result=\"\"\n",
    "    for i in range(len(text)):\n",
    "        char = text[i]\n",
    "        # Encrypt uppercase characters\n",
    "        if (char.isupper()):\n",
    "            result += chr((ord(char) + s-65) % 26 + 65)\n",
    "        # Encrypt lowercase characters\n",
    "        else:\n",
    "            result += chr((ord(char) + s - 97) % 26 + 97)\n",
    "    return result\n"
   ]
  },
  {
   "cell_type": "markdown",
   "id": "04dec754",
   "metadata": {},
   "source": [
    "#### call the encrypt function"
   ]
  },
  {
   "cell_type": "code",
   "execution_count": 5,
   "id": "9933c070",
   "metadata": {},
   "outputs": [
    {
     "name": "stdout",
     "output_type": "stream",
     "text": [
      "Text  : CODE UNNATI\n",
      "Shift : 4\n",
      "Cipher: GSHIrYRREXM\n"
     ]
    }
   ],
   "source": [
    "text = \"CODE UNNATI\"\n",
    "s = 4\n",
    "print (\"Text  : \" + text)\n",
    "print (\"Shift : \" + str(s))\n",
    "print (\"Cipher: \" + encrypt(text,s))"
   ]
  },
  {
   "cell_type": "code",
   "execution_count": null,
   "id": "00b07df7",
   "metadata": {},
   "outputs": [],
   "source": [
    "\n"
   ]
  }
 ],
 "metadata": {
  "kernelspec": {
   "display_name": "Python 3",
   "language": "python",
   "name": "python3"
  },
  "language_info": {
   "codemirror_mode": {
    "name": "ipython",
    "version": 3
   },
   "file_extension": ".py",
   "mimetype": "text/x-python",
   "name": "python",
   "nbconvert_exporter": "python",
   "pygments_lexer": "ipython3",
   "version": "3.8.8"
  }
 },
 "nbformat": 4,
 "nbformat_minor": 5
}
