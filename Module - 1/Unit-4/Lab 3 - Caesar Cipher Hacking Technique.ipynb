{
 "cells": [
  {
   "cell_type": "markdown",
   "id": "6a1afd6b",
   "metadata": {},
   "source": [
    "# EDUNET FOUNDATION-Class Exercise Notebook"
   ]
  },
  {
   "cell_type": "markdown",
   "id": "a51d3226",
   "metadata": {},
   "source": [
    "## LAB 3 - Caesar Cipher Hacking Technique"
   ]
  },
  {
   "cell_type": "code",
   "execution_count": 1,
   "id": "c8f75f74",
   "metadata": {},
   "outputs": [
    {
     "ename": "SyntaxError",
     "evalue": "invalid character in identifier (<ipython-input-1-6e7e0fccf19c>, line 9)",
     "output_type": "error",
     "traceback": [
      "\u001b[1;36m  File \u001b[1;32m\"<ipython-input-1-6e7e0fccf19c>\"\u001b[1;36m, line \u001b[1;32m9\u001b[0m\n\u001b[1;33m    if num < 0:\u001b[0m\n\u001b[1;37m    ^\u001b[0m\n\u001b[1;31mSyntaxError\u001b[0m\u001b[1;31m:\u001b[0m invalid character in identifier\n"
     ]
    }
   ],
   "source": [
    "message = \"GSHI YRREXM\" #encrypted message\n",
    "LETTERS = \"ABCDEFGHIJKLMNOPQRSTUVWXYZ\"\n",
    "for key in range(len(LETTERS)):\n",
    "    translated = ''\n",
    "    for symbol in message:\n",
    "        if symbol in LETTERS:\n",
    "            num = LETTERS.find(symbol)\n",
    "            num = num - key\n",
    "            if num < 0:\n",
    "                num = num + len(LETTERS)\n",
    "            translated = translated + LETTERS[num]\n",
    "        else:\n",
    "            translated = translated + symbol\n",
    "    print('Hacking key #%s: %s' % (key, translated))"
   ]
  },
  {
   "cell_type": "code",
   "execution_count": null,
   "id": "a018fc5d",
   "metadata": {},
   "outputs": [],
   "source": []
  }
 ],
 "metadata": {
  "kernelspec": {
   "display_name": "Python 3",
   "language": "python",
   "name": "python3"
  },
  "language_info": {
   "codemirror_mode": {
    "name": "ipython",
    "version": 3
   },
   "file_extension": ".py",
   "mimetype": "text/x-python",
   "name": "python",
   "nbconvert_exporter": "python",
   "pygments_lexer": "ipython3",
   "version": "3.8.8"
  }
 },
 "nbformat": 4,
 "nbformat_minor": 5
}
